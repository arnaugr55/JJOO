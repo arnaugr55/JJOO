{
 "cells": [
  {
   "cell_type": "code",
   "execution_count": 2,
   "id": "16f3c649",
   "metadata": {},
   "outputs": [
    {
     "name": "stderr",
     "output_type": "stream",
     "text": [
      "Cloning into 'JJOO'...\n",
      "Host key verification failed.\n",
      "fatal: Could not read from remote repository.\n",
      "\n",
      "Please make sure you have the correct access rights\n",
      "and the repository exists.\n"
     ]
    }
   ],
   "source": [
    "!git clone git@github.com:arnaugr55/JJOO.git"
   ]
  },
  {
   "cell_type": "code",
   "execution_count": 1,
   "id": "607524b3",
   "metadata": {},
   "outputs": [
    {
     "name": "stdout",
     "output_type": "stream",
     "text": [
      "^C\n"
     ]
    }
   ],
   "source": [
    "!git push"
   ]
  },
  {
   "cell_type": "code",
   "execution_count": 2,
   "id": "6f28d6f9",
   "metadata": {
    "scrolled": true
   },
   "outputs": [
    {
     "name": "stdout",
     "output_type": "stream",
     "text": [
      "Requirement already satisfied: beautifulsoup4 in c:\\users\\usuari\\anaconda3\\lib\\site-packages (4.10.0)\n",
      "Requirement already satisfied: soupsieve>1.2 in c:\\users\\usuari\\anaconda3\\lib\\site-packages (from beautifulsoup4) (2.2.1)\n",
      "Requirement already satisfied: requests in c:\\users\\usuari\\anaconda3\\lib\\site-packages (2.28.1)\n",
      "Requirement already satisfied: idna<4,>=2.5 in c:\\users\\usuari\\anaconda3\\lib\\site-packages (from requests) (3.2)\n",
      "Requirement already satisfied: charset-normalizer<3,>=2 in c:\\users\\usuari\\anaconda3\\lib\\site-packages (from requests) (2.0.4)\n",
      "Requirement already satisfied: certifi>=2017.4.17 in c:\\users\\usuari\\anaconda3\\lib\\site-packages (from requests) (2021.10.8)\n",
      "Requirement already satisfied: urllib3<1.27,>=1.21.1 in c:\\users\\usuari\\anaconda3\\lib\\site-packages (from requests) (1.26.7)\n"
     ]
    }
   ],
   "source": [
    "!pip install beautifulsoup4\n",
    "!pip install requests"
   ]
  },
  {
   "cell_type": "code",
   "execution_count": 19,
   "id": "eaa565e0",
   "metadata": {},
   "outputs": [
    {
     "name": "stdout",
     "output_type": "stream",
     "text": [
      "Empty DataFrame\n",
      "Columns: [Name, Surname, Medal, Sport, Event, Date, Team]\n",
      "Index: []\n"
     ]
    }
   ],
   "source": [
    "import pandas as pd\n",
    "\n",
    "# Create an empty DataFrame\n",
    "df = pd.DataFrame(columns=[\"Name\", \"Surname\", \"Medal\", \"Sport\", \"Event\", \"Date\", \"Team\"])\n",
    "\n",
    "# Print the empty DataFrame\n",
    "print(df)"
   ]
  },
  {
   "cell_type": "code",
   "execution_count": 20,
   "id": "94ad9dfc",
   "metadata": {},
   "outputs": [],
   "source": [
    "import requests\n",
    "from bs4 import BeautifulSoup\n",
    "\n",
    "# Define the URL of the Wikipedia page\n",
    "url = \"https://en.wikipedia.org/wiki/Spain_at_the_2016_Summer_Olympics\"\n",
    "\n",
    "# Send an HTTP GET request to the URL\n",
    "response = requests.get(url)\n",
    "\n",
    "# Check if the request was successful\n",
    "if response.status_code == 200:\n",
    "    # Parse the HTML content of the page\n",
    "    soup = BeautifulSoup(response.content, \"html.parser\")\n",
    "\n",
    "    # Find the \"Medalists\" section by searching for the corresponding header\n",
    "    #print(soup)\n",
    "    medalists_section = soup.find(\"span\", {\"id\": \"Medalists\"})\n",
    "\n",
    "    if medalists_section:\n",
    "        # Find the table that follows the \"Medalists\" header\n",
    "        medalists_table = medalists_section.find_next(\"table\")\n",
    "\n",
    "        # Extract and print the table rows and data\n",
    "        for row in medalists_table.find_all(\"tr\"):\n",
    "            cells = row.find_all([\"th\", \"td\"])\n",
    "            row_data = [cell.get_text(strip=True) for cell in cells]\n",
    "            if row_data[0] in [\"Gold\", \"Silver\", \"Bronze\"]: # The row is a medal\n",
    "                words = row_data[1].split()\n",
    "                if len(words)==2:\n",
    "                    new_row = {\"Name\": words[0], \"Surname\": words[1], \"Medal\": row_data[0], \"Sport\": row_data[2], \"Event\": row_data[3], \"Date\": row_data[4], \"Team\": 1}\n",
    "                    # Use the append() method to add the new row\n",
    "                    df = df.append(new_row, ignore_index=True)\n",
    "                    \n",
    "                    \n",
    "\n",
    "    else:\n",
    "        print(\"Medalists section not found on the page.\")\n",
    "else:\n",
    "    print(\"Failed to retrieve the page. Status code:\", response.status_code)\n"
   ]
  },
  {
   "cell_type": "code",
   "execution_count": 21,
   "id": "7c7557b3",
   "metadata": {},
   "outputs": [
    {
     "data": {
      "text/html": [
       "<div>\n",
       "<style scoped>\n",
       "    .dataframe tbody tr th:only-of-type {\n",
       "        vertical-align: middle;\n",
       "    }\n",
       "\n",
       "    .dataframe tbody tr th {\n",
       "        vertical-align: top;\n",
       "    }\n",
       "\n",
       "    .dataframe thead th {\n",
       "        text-align: right;\n",
       "    }\n",
       "</style>\n",
       "<table border=\"1\" class=\"dataframe\">\n",
       "  <thead>\n",
       "    <tr style=\"text-align: right;\">\n",
       "      <th></th>\n",
       "      <th>Name</th>\n",
       "      <th>Surname</th>\n",
       "      <th>Medal</th>\n",
       "      <th>Sport</th>\n",
       "      <th>Event</th>\n",
       "      <th>Date</th>\n",
       "      <th>Team</th>\n",
       "    </tr>\n",
       "  </thead>\n",
       "  <tbody>\n",
       "    <tr>\n",
       "      <th>0</th>\n",
       "      <td>Mireia</td>\n",
       "      <td>Belmonte</td>\n",
       "      <td>Gold</td>\n",
       "      <td>Swimming</td>\n",
       "      <td>Women's 200 m butterfly</td>\n",
       "      <td>10 August</td>\n",
       "      <td>1</td>\n",
       "    </tr>\n",
       "    <tr>\n",
       "      <th>1</th>\n",
       "      <td>Maialen</td>\n",
       "      <td>Chourraut</td>\n",
       "      <td>Gold</td>\n",
       "      <td>Canoeing</td>\n",
       "      <td>Women's slalom K-1</td>\n",
       "      <td>11 August</td>\n",
       "      <td>1</td>\n",
       "    </tr>\n",
       "    <tr>\n",
       "      <th>2</th>\n",
       "      <td>Marcus</td>\n",
       "      <td>Walz</td>\n",
       "      <td>Gold</td>\n",
       "      <td>Canoeing</td>\n",
       "      <td>Men's K-1 1000 m</td>\n",
       "      <td>16 August</td>\n",
       "      <td>1</td>\n",
       "    </tr>\n",
       "    <tr>\n",
       "      <th>3</th>\n",
       "      <td>Carolina</td>\n",
       "      <td>Marín</td>\n",
       "      <td>Gold</td>\n",
       "      <td>Badminton</td>\n",
       "      <td>Women's singles</td>\n",
       "      <td>19 August</td>\n",
       "      <td>1</td>\n",
       "    </tr>\n",
       "    <tr>\n",
       "      <th>4</th>\n",
       "      <td>Ruth</td>\n",
       "      <td>Beitia</td>\n",
       "      <td>Gold</td>\n",
       "      <td>Athletics</td>\n",
       "      <td>Women's high jump</td>\n",
       "      <td>20 August</td>\n",
       "      <td>1</td>\n",
       "    </tr>\n",
       "    <tr>\n",
       "      <th>5</th>\n",
       "      <td>Orlando</td>\n",
       "      <td>Ortega</td>\n",
       "      <td>Silver</td>\n",
       "      <td>Athletics</td>\n",
       "      <td>Men's 110 m hurdles</td>\n",
       "      <td>16 August</td>\n",
       "      <td>1</td>\n",
       "    </tr>\n",
       "    <tr>\n",
       "      <th>6</th>\n",
       "      <td>Eva</td>\n",
       "      <td>Calvo</td>\n",
       "      <td>Silver</td>\n",
       "      <td>Taekwondo</td>\n",
       "      <td>Women's 57 kg</td>\n",
       "      <td>18 August</td>\n",
       "      <td>1</td>\n",
       "    </tr>\n",
       "    <tr>\n",
       "      <th>7</th>\n",
       "      <td>Mireia</td>\n",
       "      <td>Belmonte</td>\n",
       "      <td>Bronze</td>\n",
       "      <td>Swimming</td>\n",
       "      <td>Women's 400 m individual medley</td>\n",
       "      <td>6 August</td>\n",
       "      <td>1</td>\n",
       "    </tr>\n",
       "    <tr>\n",
       "      <th>8</th>\n",
       "      <td>Lydia</td>\n",
       "      <td>Valentín</td>\n",
       "      <td>Bronze</td>\n",
       "      <td>Weightlifting</td>\n",
       "      <td>Women's 75 kg</td>\n",
       "      <td>12 August</td>\n",
       "      <td>1</td>\n",
       "    </tr>\n",
       "    <tr>\n",
       "      <th>9</th>\n",
       "      <td>Joel</td>\n",
       "      <td>González</td>\n",
       "      <td>Bronze</td>\n",
       "      <td>Taekwondo</td>\n",
       "      <td>Men's 68 kg</td>\n",
       "      <td>18 August</td>\n",
       "      <td>1</td>\n",
       "    </tr>\n",
       "    <tr>\n",
       "      <th>10</th>\n",
       "      <td>Saúl</td>\n",
       "      <td>Craviotto</td>\n",
       "      <td>Bronze</td>\n",
       "      <td>Canoeing</td>\n",
       "      <td>Men's K-1 200 metres</td>\n",
       "      <td>20 August</td>\n",
       "      <td>1</td>\n",
       "    </tr>\n",
       "    <tr>\n",
       "      <th>11</th>\n",
       "      <td>Carlos</td>\n",
       "      <td>Coloma</td>\n",
       "      <td>Bronze</td>\n",
       "      <td>Cycling</td>\n",
       "      <td>Men's cross-country</td>\n",
       "      <td>21 August</td>\n",
       "      <td>1</td>\n",
       "    </tr>\n",
       "  </tbody>\n",
       "</table>\n",
       "</div>"
      ],
      "text/plain": [
       "        Name    Surname   Medal          Sport  \\\n",
       "0     Mireia   Belmonte    Gold       Swimming   \n",
       "1    Maialen  Chourraut    Gold       Canoeing   \n",
       "2     Marcus       Walz    Gold       Canoeing   \n",
       "3   Carolina      Marín    Gold      Badminton   \n",
       "4       Ruth     Beitia    Gold      Athletics   \n",
       "5    Orlando     Ortega  Silver      Athletics   \n",
       "6        Eva      Calvo  Silver      Taekwondo   \n",
       "7     Mireia   Belmonte  Bronze       Swimming   \n",
       "8      Lydia   Valentín  Bronze  Weightlifting   \n",
       "9       Joel   González  Bronze      Taekwondo   \n",
       "10      Saúl  Craviotto  Bronze       Canoeing   \n",
       "11    Carlos     Coloma  Bronze        Cycling   \n",
       "\n",
       "                              Event       Date Team  \n",
       "0           Women's 200 m butterfly  10 August    1  \n",
       "1                Women's slalom K-1  11 August    1  \n",
       "2                  Men's K-1 1000 m  16 August    1  \n",
       "3                   Women's singles  19 August    1  \n",
       "4                 Women's high jump  20 August    1  \n",
       "5               Men's 110 m hurdles  16 August    1  \n",
       "6                     Women's 57 kg  18 August    1  \n",
       "7   Women's 400 m individual medley   6 August    1  \n",
       "8                     Women's 75 kg  12 August    1  \n",
       "9                       Men's 68 kg  18 August    1  \n",
       "10             Men's K-1 200 metres  20 August    1  \n",
       "11              Men's cross-country  21 August    1  "
      ]
     },
     "execution_count": 21,
     "metadata": {},
     "output_type": "execute_result"
    }
   ],
   "source": [
    "df"
   ]
  },
  {
   "cell_type": "code",
   "execution_count": null,
   "id": "fa5daf13",
   "metadata": {},
   "outputs": [],
   "source": []
  },
  {
   "cell_type": "code",
   "execution_count": null,
   "id": "aa78917a",
   "metadata": {},
   "outputs": [],
   "source": []
  }
 ],
 "metadata": {
  "kernelspec": {
   "display_name": "Python 3 (ipykernel)",
   "language": "python",
   "name": "python3"
  },
  "language_info": {
   "codemirror_mode": {
    "name": "ipython",
    "version": 3
   },
   "file_extension": ".py",
   "mimetype": "text/x-python",
   "name": "python",
   "nbconvert_exporter": "python",
   "pygments_lexer": "ipython3",
   "version": "3.9.7"
  }
 },
 "nbformat": 4,
 "nbformat_minor": 5
}
